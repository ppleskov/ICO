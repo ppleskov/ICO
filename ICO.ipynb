{
 "cells": [
  {
   "cell_type": "code",
   "execution_count": 50,
   "metadata": {
    "collapsed": false
   },
   "outputs": [
    {
     "name": "stderr",
     "output_type": "stream",
     "text": [
      "\n",
      "  0%|          | 0/322 [00:00<?, ?it/s]\u001b[A\n",
      "  0%|          | 1/322 [00:02<13:12,  2.47s/it]\u001b[A\n",
      "  1%|          | 2/322 [00:04<13:00,  2.44s/it]\u001b[A\n",
      "  1%|          | 3/322 [00:07<13:56,  2.62s/it]\u001b[A\n",
      "  1%|          | 4/322 [00:10<13:41,  2.58s/it]\u001b[A\n",
      "100%|██████████| 322/322 [16:29<00:00,  3.39s/it]"
     ]
    },
    {
     "name": "stdout",
     "output_type": "stream",
     "text": [
      "                                               links  \\\n",
      "0  https://bitcointalk.org/index.php?topic=2116446.0   \n",
      "1  https://bitcointalk.org/index.php?topic=2006999.0   \n",
      "2  https://bitcointalk.org/index.php?topic=2144082.0   \n",
      "3  https://bitcointalk.org/index.php?topic=2133048.0   \n",
      "4  https://bitcointalk.org/index.php?topic=2056867.0   \n",
      "\n",
      "                                                text  \n",
      "0  [ANN] [SDRN] Senderon - ERC23 Project Funding ...  \n",
      "1  [ANN] STORM Token: A Gamified Micro-Task Marke...  \n",
      "2      ANN: ELIXIR (ELIX) Incentives Driven Payments  \n",
      "3  [ ANN ][ VSX ] - Masternode - POS 3.0 - Seesaw...  \n",
      "4  ▉ANN▉ Masternodecoin  ▉▉▉▉░  2nd Airdrop  ░▉▉▉...  \n"
     ]
    },
    {
     "name": "stderr",
     "output_type": "stream",
     "text": [
      "\n"
     ]
    },
    {
     "ename": "AttributeError",
     "evalue": "'DataFrame' object has no attribute 'link'",
     "output_type": "error",
     "traceback": [
      "\u001b[0;31m---------------------------------------------------------------------------\u001b[0m",
      "\u001b[0;31mAttributeError\u001b[0m                            Traceback (most recent call last)",
      "\u001b[0;32m<ipython-input-50-5746bfa20a6b>\u001b[0m in \u001b[0;36m<module>\u001b[0;34m()\u001b[0m\n\u001b[1;32m     30\u001b[0m \u001b[0mprint\u001b[0m\u001b[0;34m(\u001b[0m\u001b[0mdf\u001b[0m\u001b[0;34m.\u001b[0m\u001b[0mhead\u001b[0m\u001b[0;34m(\u001b[0m\u001b[0;34m)\u001b[0m\u001b[0;34m)\u001b[0m\u001b[0;34m\u001b[0m\u001b[0m\n\u001b[1;32m     31\u001b[0m \u001b[0;34m\u001b[0m\u001b[0m\n\u001b[0;32m---> 32\u001b[0;31m \u001b[0;32mfor\u001b[0m \u001b[0mi\u001b[0m \u001b[0;32min\u001b[0m \u001b[0mtqdm\u001b[0m\u001b[0;34m(\u001b[0m\u001b[0mrange\u001b[0m\u001b[0;34m(\u001b[0m\u001b[0mlen\u001b[0m\u001b[0;34m(\u001b[0m\u001b[0mdf\u001b[0m\u001b[0;34m.\u001b[0m\u001b[0mlink\u001b[0m\u001b[0;34m)\u001b[0m\u001b[0;34m)\u001b[0m\u001b[0;34m)\u001b[0m\u001b[0;34m:\u001b[0m\u001b[0;34m\u001b[0m\u001b[0m\n\u001b[0m\u001b[1;32m     33\u001b[0m     \u001b[0mlink\u001b[0m \u001b[0;34m=\u001b[0m \u001b[0mdf\u001b[0m\u001b[0;34m.\u001b[0m\u001b[0mxs\u001b[0m\u001b[0;34m(\u001b[0m\u001b[0mi\u001b[0m\u001b[0;34m)\u001b[0m\u001b[0;34m[\u001b[0m\u001b[0;34m'link'\u001b[0m\u001b[0;34m]\u001b[0m\u001b[0;34m\u001b[0m\u001b[0m\n\u001b[1;32m     34\u001b[0m     \u001b[0mresponse\u001b[0m \u001b[0;34m=\u001b[0m \u001b[0murlopen\u001b[0m\u001b[0;34m(\u001b[0m\u001b[0mlink\u001b[0m\u001b[0;34m)\u001b[0m\u001b[0;34m\u001b[0m\u001b[0m\n",
      "\u001b[0;32m/home/ppleskov/anaconda3/lib/python3.6/site-packages/pandas/core/generic.py\u001b[0m in \u001b[0;36m__getattr__\u001b[0;34m(self, name)\u001b[0m\n\u001b[1;32m   2742\u001b[0m             \u001b[0;32mif\u001b[0m \u001b[0mname\u001b[0m \u001b[0;32min\u001b[0m \u001b[0mself\u001b[0m\u001b[0;34m.\u001b[0m\u001b[0m_info_axis\u001b[0m\u001b[0;34m:\u001b[0m\u001b[0;34m\u001b[0m\u001b[0m\n\u001b[1;32m   2743\u001b[0m                 \u001b[0;32mreturn\u001b[0m \u001b[0mself\u001b[0m\u001b[0;34m[\u001b[0m\u001b[0mname\u001b[0m\u001b[0;34m]\u001b[0m\u001b[0;34m\u001b[0m\u001b[0m\n\u001b[0;32m-> 2744\u001b[0;31m             \u001b[0;32mreturn\u001b[0m \u001b[0mobject\u001b[0m\u001b[0;34m.\u001b[0m\u001b[0m__getattribute__\u001b[0m\u001b[0;34m(\u001b[0m\u001b[0mself\u001b[0m\u001b[0;34m,\u001b[0m \u001b[0mname\u001b[0m\u001b[0;34m)\u001b[0m\u001b[0;34m\u001b[0m\u001b[0m\n\u001b[0m\u001b[1;32m   2745\u001b[0m \u001b[0;34m\u001b[0m\u001b[0m\n\u001b[1;32m   2746\u001b[0m     \u001b[0;32mdef\u001b[0m \u001b[0m__setattr__\u001b[0m\u001b[0;34m(\u001b[0m\u001b[0mself\u001b[0m\u001b[0;34m,\u001b[0m \u001b[0mname\u001b[0m\u001b[0;34m,\u001b[0m \u001b[0mvalue\u001b[0m\u001b[0;34m)\u001b[0m\u001b[0;34m:\u001b[0m\u001b[0;34m\u001b[0m\u001b[0m\n",
      "\u001b[0;31mAttributeError\u001b[0m: 'DataFrame' object has no attribute 'link'"
     ]
    }
   ],
   "source": [
    "from urllib.request import urlopen\n",
    "from bs4 import BeautifulSoup\n",
    "from dateutil import parser\n",
    "from tqdm import tqdm\n",
    "\n",
    "import pandas as pd\n",
    "import numpy as np\n",
    "\n",
    "base_link = \"https://bitcointalk.org/index.php?board=159.\"\n",
    "\n",
    "response = urlopen(base_link + \"0\")\n",
    "html = response.read()\n",
    "soup = BeautifulSoup(html, 'html.parser')\n",
    "\n",
    "max_page = int(list(soup.find(id=\"toppages\"))[-3].text)\n",
    "\n",
    "d = list()\n",
    "\n",
    "for i in tqdm(range(max_page)):\n",
    "    link = base_link + str(i)\n",
    "    response = urlopen(link)\n",
    "    html = response.read()\n",
    "    soup = BeautifulSoup(html, 'html.parser')    \n",
    "    \n",
    "    for res in soup.find_all('a'):\n",
    "        if \"ANN\" in res.text:\n",
    "            d.append({\"links\":res.get('href'), \"text\" : res.text, \"date\" : 0})\n",
    "\n",
    "df = pd.DataFrame(data=d)\n",
    "\n",
    "print(df.head())\n",
    "    "
   ]
  },
  {
   "cell_type": "code",
   "execution_count": 85,
   "metadata": {
    "collapsed": false
   },
   "outputs": [
    {
     "name": "stderr",
     "output_type": "stream",
     "text": [
      "100%|██████████| 10142/10142 [00:07<00:00, 1325.02it/s]"
     ]
    },
    {
     "name": "stdout",
     "output_type": "stream",
     "text": [
      "                                                   links  \\\n",
      "10137  https://bitcointalk.org/index.php?topic=1945661.0   \n",
      "10138  https://bitcointalk.org/index.php?topic=2029634.0   \n",
      "10139  https://bitcointalk.org/index.php?topic=2046828.0   \n",
      "10140  https://bitcointalk.org/index.php?topic=2153185.0   \n",
      "10141  https://bitcointalk.org/index.php?topic=2152924.0   \n",
      "\n",
      "                                                    text                 date  \n",
      "10137  [ANN] FUCKTOKEN - Proof of Fuck Given [FUCK] -...  2017-06-02 13:54:40  \n",
      "10138      [ANN][Soar] SOARCOIN - Your new digital cash!  2017-07-18 14:06:58  \n",
      "10139  ❤❤❤[ANN] [ICO] JDS ICO is open (AIRDROP  ❤10,0...  2017-07-26 07:51:29  \n",
      "10140  [ANN] Tokenlab - Token & ICO as a Service [Sal...  2017-09-05 16:04:06  \n",
      "10141  [ANN][ICO] SHARESTATE - CRYPTOCURRENCY BACKED ...  2017-09-05 14:14:24  \n"
     ]
    },
    {
     "name": "stderr",
     "output_type": "stream",
     "text": [
      "\n"
     ]
    }
   ],
   "source": [
    "for i in tqdm(range(len(df.links))):\n",
    "    if df.xs(i)['date'] == 0:\n",
    "        link = df.xs(i)['links']\n",
    "        response = urlopen(link)\n",
    "        html = response.read()\n",
    "        soup = BeautifulSoup(html, 'html.parser')\n",
    "        try:\n",
    "            dt = parser.parse(soup.find_all('span', {'class' : 'edited'})[0].text)\n",
    "            df.set_value(i, 'date', dt)\n",
    "        except:\n",
    "            try:\n",
    "                dt = parser.parse(soup.find_all(\"div\",{'class' : 'smalltext'})[1].text)\n",
    "                df.set_value(i, 'date', dt)\n",
    "            except:\n",
    "                continue\n",
    "    if i%100==0:\n",
    "        df.to_csv('links.txt', header=True, index=False, sep='\\t')\n",
    "            \n",
    "print(df.tail())\n"
   ]
  },
  {
   "cell_type": "code",
   "execution_count": 117,
   "metadata": {
    "collapsed": false
   },
   "outputs": [
    {
     "data": {
      "image/png": "[encoded data removed]",
      "text/plain": [
       "<matplotlib.figure.Figure at 0x7fe45af7a1d0>"
      ]
     },
     "metadata": {},
     "output_type": "display_data"
    }
   ],
   "source": [
    "import matplotlib.pyplot as plt\n",
    "df[df[\"date\"].dt.year > 2013][\"date\"].groupby((df[\"date\"].dt.year, df[\"date\"].dt.month)).count().plot(kind=\"bar\")\n",
    "plt.rcParams[\"figure.figsize\"] = [20,9]\n",
    "plt.show()"
   ]
  }
 ],
 "metadata": {
  "kernelspec": {
   "display_name": "Python 3",
   "language": "python",
   "name": "python3"
  },
  "language_info": {
   "codemirror_mode": {
    "name": "ipython",
    "version": 3
   },
   "file_extension": ".py",
   "mimetype": "text/x-python",
   "name": "python",
   "nbconvert_exporter": "python",
   "pygments_lexer": "ipython3",
   "version": "3.6.1"
  }
 },
 "nbformat": 4,
 "nbformat_minor": 2
}
