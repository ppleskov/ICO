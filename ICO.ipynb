{
 "cells": [
  {
   "cell_type": "code",
   "execution_count": 128,
   "metadata": {
    "collapsed": false
   },
   "outputs": [
    {
     "name": "stderr",
     "output_type": "stream",
     "text": [
      "100%|██████████| 323/323 [20:48<00:00,  2.59s/it]"
     ]
    },
    {
     "name": "stdout",
     "output_type": "stream",
     "text": [
      "   date                                              links  \\\n",
      "0     0  https://bitcointalk.org/index.php?topic=2170764.0   \n",
      "1     0  https://bitcointalk.org/index.php?topic=2015949.0   \n",
      "2     0  https://bitcointalk.org/index.php?topic=2062875.0   \n",
      "3     0  https://bitcointalk.org/index.php?topic=2097832.0   \n",
      "4     0  https://bitcointalk.org/index.php?topic=2044729.0   \n",
      "\n",
      "                                                text  \n",
      "0  [ANN][PRE-ICO] EcoGreenHouse - Organic Product...  \n",
      "1  [ANN]★CryptoBridge★BCO★🔹Decentralized EXchange...  \n",
      "2  [ANN][CND] Cindicator - Hybrid Intelligence fo...  \n",
      "3  [ANN] WORLDCORE ICO - Reliable investment into...  \n",
      "4  [ANN] [ICO] VIBEHub | Crypto Based Virtual Rea...  \n"
     ]
    },
    {
     "name": "stderr",
     "output_type": "stream",
     "text": [
      "\n"
     ]
    }
   ],
   "source": [
    "from urllib.request import urlopen\n",
    "from bs4 import BeautifulSoup\n",
    "from dateutil import parser\n",
    "from tqdm import tqdm\n",
    "\n",
    "import pandas as pd\n",
    "import numpy as np\n",
    "\n",
    "base_link = \"https://bitcointalk.org/index.php?board=159.\"\n",
    "\n",
    "response = urlopen(base_link + \"0\")\n",
    "html = response.read()\n",
    "soup = BeautifulSoup(html, 'html.parser')\n",
    "\n",
    "max_page = int(list(soup.find(id=\"toppages\"))[-3].text)\n",
    "\n",
    "d = list()\n",
    "\n",
    "for i in tqdm(range(max_page)):\n",
    "    link = base_link + str(i*40)\n",
    "    response = urlopen(link)\n",
    "    html = response.read()\n",
    "    soup = BeautifulSoup(html, 'html.parser')    \n",
    "    \n",
    "    for res in soup.find_all('a'):\n",
    "        if \"ANN\" in res.text:\n",
    "            d.append({\"links\":res.get('href'), \"text\" : res.text, \"date\" : 0})\n",
    "\n",
    "df = pd.DataFrame(data=d)\n",
    "\n",
    "print(df.head())    "
   ]
  },
  {
   "cell_type": "code",
   "execution_count": 143,
   "metadata": {
    "collapsed": false
   },
   "outputs": [
    {
     "name": "stdout",
     "output_type": "stream",
     "text": [
      "<class 'pandas.core.frame.DataFrame'>\n",
      "Int64Index: 7326 entries, 0 to 7330\n",
      "Data columns (total 3 columns):\n",
      "date     7326 non-null object\n",
      "links    7326 non-null object\n",
      "text     7326 non-null object\n",
      "dtypes: object(3)\n",
      "memory usage: 228.9+ KB\n",
      "None\n",
      "<class 'pandas.core.frame.DataFrame'>\n",
      "RangeIndex: 7326 entries, 0 to 7325\n",
      "Data columns (total 3 columns):\n",
      "date     7326 non-null object\n",
      "links    7326 non-null object\n",
      "text     7326 non-null object\n",
      "dtypes: object(3)\n",
      "memory usage: 171.8+ KB\n",
      "None\n"
     ]
    }
   ],
   "source": [
    "print(df.info())\n",
    "df = df.drop_duplicates()\n",
    "df = df.reset_index(drop=True)\n",
    "print(df.info())"
   ]
  },
  {
   "cell_type": "code",
   "execution_count": 147,
   "metadata": {
    "collapsed": false
   },
   "outputs": [
    {
     "name": "stderr",
     "output_type": "stream",
     "text": [
      "100%|██████████| 7326/7326 [00:57<00:00, 126.71it/s] "
     ]
    },
    {
     "name": "stdout",
     "output_type": "stream",
     "text": [
      "                     date                                             links  \\\n",
      "7321  2014-01-05 06:38:59  https://bitcointalk.org/index.php?topic=399504.0   \n",
      "7322  2014-01-07 20:54:22  https://bitcointalk.org/index.php?topic=404058.0   \n",
      "7323  2014-01-06 15:31:15  https://bitcointalk.org/index.php?topic=401382.0   \n",
      "7324  2014-01-05 01:49:46  https://bitcointalk.org/index.php?topic=399279.0   \n",
      "7325  2013-12-24 05:11:19  https://bitcointalk.org/index.php?topic=382896.0   \n",
      "\n",
      "                                                   text  \n",
      "7321               [ANN] BeerCoin launched [05-01-2014]  \n",
      "7322            [ANN][EMG] Ermahgerd Meme Competition!   \n",
      "7323                          [ANN] EliteCoin [XLC] IPO  \n",
      "7324                            [ANN] ShoeCoin Launched  \n",
      "7325  [ANN] JediCoin and SithCoin - January 14th - F...  \n"
     ]
    },
    {
     "name": "stderr",
     "output_type": "stream",
     "text": [
      "\n"
     ]
    }
   ],
   "source": [
    "for i in tqdm(range(len(df.links))):\n",
    "    if df.xs(i)['date'] == 0:\n",
    "        link = df.xs(i)['links']\n",
    "        response = urlopen(link)\n",
    "        html = response.read()\n",
    "        soup = BeautifulSoup(html, 'html.parser')\n",
    "        try:\n",
    "            dt = parser.parse(soup.find_all('span', {'class' : 'edited'})[0].text)\n",
    "            df.set_value(i, 'date', dt)\n",
    "        except:\n",
    "            try:\n",
    "                dt = parser.parse(soup.find_all(\"div\",{'class' : 'smalltext'})[1].text)\n",
    "                df.set_value(i, 'date', dt)\n",
    "            except:\n",
    "                continue\n",
    "    if i%100==0:\n",
    "        df.to_csv('ICO.txt', header=True, index=False, sep='\\t')\n",
    "            \n",
    "print(df.tail())\n"
   ]
  },
  {
   "cell_type": "code",
   "execution_count": 154,
   "metadata": {
    "collapsed": false
   },
   "outputs": [],
   "source": [
    "df = df[df.date != 0]\n",
    "df.to_csv('ICO.txt', header=True, index=False, sep='\\t')\n"
   ]
  },
  {
   "cell_type": "code",
   "execution_count": 160,
   "metadata": {
    "collapsed": false
   },
   "outputs": [
    {
     "data": {
      "image/png": "[encoded data removed]",
      "text/plain": [
       "<matplotlib.figure.Figure at 0x7fe45b850cf8>"
      ]
     },
     "metadata": {},
     "output_type": "display_data"
    }
   ],
   "source": [
    "import matplotlib.pyplot as plt\n",
    "df[df[\"date\"].dt.year > 2013][\"date\"].groupby((df[\"date\"].dt.year, df[\"date\"].dt.month)).count().plot(kind=\"bar\")\n",
    "plt.rcParams[\"figure.figsize\"] = [20,9]\n",
    "plt.show()"
   ]
  },
  {
   "cell_type": "code",
   "execution_count": 161,
   "metadata": {
    "collapsed": false
   },
   "outputs": [
    {
     "name": "stdout",
     "output_type": "stream",
     "text": [
      "[ANN][ICO SCAM TESTING] We begin to test our cloud theory on several ICOs\n",
      "[NO ANN] Buzzcoin most likely a scam\n",
      "[ANN] CoinonatX- Scam Alert - Unmoderated thread\n",
      "[ANN] 🔺🔺🔺PYRAMIDUM🔺🔺🔺 Buy scam and make money!\n",
      "(ANN) XTDCOIN SCAM!!!!!!!!!!!!!!!!!!!\n",
      "MOVED: [ANN] 🔥🔥🔥PYRAMIDUM🔥🔥🔥 Buy scam and make money!\n",
      "[ANN][ICO][BOUNTY] ScamToken - The World's First 100% Bullshit ICO.\n",
      "ANTI SCAM COIN ALERT THREAD [ANN] [ASC]\n",
      "[ANN] SCAM_STAMP Token - Mark an address as SCAM and maybe get your ether back\n",
      "[ANN] scamcoin iCO offering the the potential for minimum ROI of %10000000000000\n",
      "Re: [ANN][ICO] Polybius -  SCAM\n",
      "[ANN] [FHT] BITCOINSCAMFIGHTERS #1 LEGAL SERVICES-OFFERING & ANTI-SCAM PLATFORM\n",
      "[ANN]1337 YOBIT (SCAM)\n",
      "[ANN] ✊ FHT - BITCOINSCAMFIGHTERS.com! ✊ ICO STARTS 3 JUNE 2017! ✊ 274.83+ ETH ✊\n",
      "[ANN] Torcoin is a scam signature campaign. No bounties.\n",
      "[ANN] Ebitz - Unmoderated thread - Confirmed connection with the Opair scam\n",
      "[ANN][FIND] FindCoin | Update Wallet If You Haven't! | Community Anti-Scam Token\n",
      "[ANN] XBY - Bitmox ** ICO CROWDFUNDING LIVE NOW ** ANOTHER CCEX SCAM ICO\n",
      "[ANN] Chronobank - SCAM Devs=Scam Coin- Scaming BOUNTY\n",
      " [ANN][GMB][ICO]|🔶Gambleo🔶🎲Gambling+🏈SportsBetting & SCAM - UNMODERATED\n",
      "[ANN][ARGUS]|ARGUS|| UNMODERATED| SCAM |\n",
      "[ANN][EBZ] Ebitz (+ Zcrypt) - Non Moderated + SCAM discussion \n",
      "[ANN][RSC] | RealStackCoin | Reverse-scam | HARD FORK @ 34015 | KGW PATCH\n",
      "[ANN] ORACLE | SCAM : Restoring Faith in Humanity via Blockchain - 18HRS TO GO\n",
      "[ANN] [IPO] ScamScamCoin - the crypto that will leave you pennyless!\n",
      "[ANN] synRg - new scam by RibbitRewards/Loyyal\n",
      "[ANN] SCAMCOIN | NeoScrypt | NEW POOL | LOW DIFF\n",
      "MOVED: [ANN] Scam Coin Ico\n",
      "[ANN] Bobsurplus/Gekko/Tor created FLOZ as another Pump and Dump Scam\n",
      "[ANN] MACRO | POW | SCAMMER\n",
      "[ANN] Mercurial - [MCI] - ?Scamming? Crypto Currencies - unmoderated for fos\n",
      "[ANN] BUYER BEWARE InstamineNuggets $MINE is being duped by scam coin developer!\n",
      "[ANN][C-CEX SCAM COIN 2.0][ICO][ROM]\n",
      "[PRE-ANN][Antocoin]Not launching. Scammed by Dev.\n",
      "[ANN] [XBS] Bitstake | NO Premine, ALL SCAM | OFFICIAL UNMODERATED THREAD\n",
      "[PRE-ANN][MGT] Magnetz - Blockchain Torrents IS A SCAM!!!\n",
      "ANNOUNCEMENT: SCREW YOU SCAM TWO-FACED HYPOCRITICAL EXCHANGES COIN\n",
      "NEW CARSEN KLOCK SCAM - [ANN] [BSTY] * DIGITAL MONEY * YESCRYPT GLOBALBOOST-Y * \n",
      "[ANN] Scam Coin BROOKLYNBRIDGE on Counterparty (1 Token)\n",
      "[ANN] WARNING DarkChain was a Trojan/Virus Scam and the next is already coming !\n",
      "[ANN] once again  i  successfully found another p-d scam (ONYX)\n",
      "[PRE-ANN] | GOT SCAMMED? GET REWARDED!! | IMSCAMMEDCoin | ISC | Community coin\n",
      "[ANN][LAUNCHED][SCAMCOIN] | SCAM | First X13 SCAMCOIN| POW/POS| Bounties | \n",
      "█████[ANN][SCM] SCAMCOIN![POOL UP!MINENOW!][FAIR LAUNCH][100BLOCK BOUNTIES]█████\n",
      "ANNOUNCEMENT: Scamcoin | 100% premine | 51% ready | sha256\n",
      "[PRE-ANN] ↑ Up Coin ↑ Never going up! Details Inside ↑ SCAM @ LAUNCH\n",
      " [ANN][HOC] ★ HouseofCoins CONFIRMED SCAM!\n",
      "[ANN] Potential Premine SCAM coins:  RainbowCoin Evercoin \n",
      "[ANN]419coin (SCAM)★The Prince of Crypto★I scam you with style!★Launch 4/19/2014\n",
      "[ANN][BBTC] 100% POS, No Scam, No BS\n",
      "[ANN] Scam Coin ~ New AdamSmith algorithm for GPU and ASICs ~ 5 Days for raffle\n",
      "[ANN] Lottocoin as a SCAM\n",
      "[PreANN][HKC] HongKongCoingen Coin|Save U from 香港  HongKong Coin SCAM\n",
      "[FRAUD] [FAUX] [PRE-ANN] [PRE-MINE] BiteCoin - Join me in this scam\n",
      "[ANN] [IPO ESCROW SERVICE] NO MORE SCAMS\n",
      " [ANN][SCAM] ScamCoin  Proof of Scam System  INNOVATIVE \n",
      "[ANN] IPO SCAM WITH BOLD RED LETTERS ***Launching Soon***\n",
      "[ANN] SCAMMER - Beware of \"fazzerking\" posing to be from cryptorush.in\n",
      "[pre-ANN][SCC] Scamcoin  - Scrypt based coin \n",
      "[ANN] NEW COIN - ScamCoin\n",
      "[ANN] - SCAMco.in - Super Cool Automatic Money-Maker Coin\n"
     ]
    }
   ],
   "source": [
    "for x in df.text:\n",
    "    if \"scam\" in x.lower():\n",
    "        print(x)"
   ]
  },
  {
   "cell_type": "code",
   "execution_count": null,
   "metadata": {
    "collapsed": false
   },
   "outputs": [],
   "source": []
  },
  {
   "cell_type": "code",
   "execution_count": null,
   "metadata": {
    "collapsed": false
   },
   "outputs": [],
   "source": []
  }
 ],
 "metadata": {
  "kernelspec": {
   "display_name": "Python 3",
   "language": "python",
   "name": "python3"
  },
  "language_info": {
   "codemirror_mode": {
    "name": "ipython",
    "version": 3
   },
   "file_extension": ".py",
   "mimetype": "text/x-python",
   "name": "python",
   "nbconvert_exporter": "python",
   "pygments_lexer": "ipython3",
   "version": "3.6.1"
  }
 },
 "nbformat": 4,
 "nbformat_minor": 2
}
